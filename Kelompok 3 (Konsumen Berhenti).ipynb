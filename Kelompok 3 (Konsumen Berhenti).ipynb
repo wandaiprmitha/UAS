{
 "cells": [
  {
   "cell_type": "markdown",
   "id": "55acb0d1",
   "metadata": {},
   "source": [
    "# Kelompok 3"
   ]
  },
  {
   "cell_type": "markdown",
   "id": "c453b225",
   "metadata": {},
   "source": [
    "### Nama Anggota"
   ]
  },
  {
   "cell_type": "markdown",
   "id": "6d537e97",
   "metadata": {},
   "source": [
    "- Anak Agung Istri Agung Yulia Prameswari (2208541007)\n",
    "- Ni Kadek Wanda Indra Paramitha          (2208541022)\n",
    "- Ni Putu Karistya Paicha Maesi           (2208541024)\n",
    "- Ni Luh Ketut Marsanda Putri Prasanti    (2208541026)"
   ]
  },
  {
   "cell_type": "markdown",
   "id": "e4ea1c6c",
   "metadata": {},
   "source": [
    "### Dataset : Konsumen Berhenti"
   ]
  },
  {
   "cell_type": "markdown",
   "id": "5a1a45ff",
   "metadata": {},
   "source": [
    "Dataset Konsumen Berhenti berisi tentang konsumen yang berhenti atau tidak berhenti menjadi pelanggan dalam suatu layanan. Dataset ini dapat digunakan untuk analisis dan pemodelan prediksi terkait perilaku churn (berhenti) seorang pelanggan terhadap suatu layanan."
   ]
  },
  {
   "cell_type": "markdown",
   "id": "975a0b95",
   "metadata": {},
   "source": [
    "### Tujuan Analisis Data"
   ]
  },
  {
   "cell_type": "markdown",
   "id": "ed06a417",
   "metadata": {},
   "source": [
    "- Akan dianalisis faktor penyebab yang mempengaruhi seorang pelanggan memutuskan untuk berhenti menggunakan suatu layanan\n",
    "- Apakah kita bisa memprediksi seorang pelanggan akan churn (berhenti) atau tidak dalam menggunakan suatu layanan\n"
   ]
  },
  {
   "cell_type": "markdown",
   "id": "ecdbfd7d",
   "metadata": {},
   "source": [
    "# Import Library"
   ]
  },
  {
   "cell_type": "code",
   "execution_count": 1,
   "id": "943bcb94",
   "metadata": {},
   "outputs": [],
   "source": [
    "import pandas as pd\n",
    "import numpy as np\n",
    "import matplotlib.pyplot as plt\n",
    "import seaborn as sns\n",
    "\n",
    "import warnings\n",
    "warnings.filterwarnings(\"ignore\")"
   ]
  },
  {
   "cell_type": "markdown",
   "id": "b886f430",
   "metadata": {},
   "source": [
    "# 1. Exploratory Data Analysis¶"
   ]
  },
  {
   "cell_type": "markdown",
   "id": "72abc9b0",
   "metadata": {},
   "source": [
    "Exploratory Data Analysis (EDA) adalah proses analisis data yang digunakan untuk memahami karakteristik, pola, dan hubungan dalam dataset. EDA melibatkan eksplorasi visual dan deskriptif dari data untuk mengidentifikasi pemahaman awal tentang data sebelum melangkah ke tahap pemodelan atau analisis yang lebih lanjut."
   ]
  },
  {
   "cell_type": "markdown",
   "id": "f4873de9",
   "metadata": {},
   "source": [
    "## - Memanggil Data"
   ]
  },
  {
   "cell_type": "code",
   "execution_count": 2,
   "id": "b0f898b0",
   "metadata": {},
   "outputs": [
    {
     "data": {
      "text/html": [
       "<div>\n",
       "<style scoped>\n",
       "    .dataframe tbody tr th:only-of-type {\n",
       "        vertical-align: middle;\n",
       "    }\n",
       "\n",
       "    .dataframe tbody tr th {\n",
       "        vertical-align: top;\n",
       "    }\n",
       "\n",
       "    .dataframe thead th {\n",
       "        text-align: right;\n",
       "    }\n",
       "</style>\n",
       "<table border=\"1\" class=\"dataframe\">\n",
       "  <thead>\n",
       "    <tr style=\"text-align: right;\">\n",
       "      <th></th>\n",
       "      <th>RowNumber</th>\n",
       "      <th>CustomerId</th>\n",
       "      <th>Surname</th>\n",
       "      <th>CreditScore</th>\n",
       "      <th>Geography</th>\n",
       "      <th>Gender</th>\n",
       "      <th>Age</th>\n",
       "      <th>Tenure</th>\n",
       "      <th>Balance</th>\n",
       "      <th>NumOfProducts</th>\n",
       "      <th>HasCrCard</th>\n",
       "      <th>IsActiveMember</th>\n",
       "      <th>EstimatedSalary</th>\n",
       "      <th>Exited</th>\n",
       "    </tr>\n",
       "  </thead>\n",
       "  <tbody>\n",
       "    <tr>\n",
       "      <th>0</th>\n",
       "      <td>1</td>\n",
       "      <td>15634602</td>\n",
       "      <td>Hargrave</td>\n",
       "      <td>619</td>\n",
       "      <td>France</td>\n",
       "      <td>Female</td>\n",
       "      <td>42</td>\n",
       "      <td>2</td>\n",
       "      <td>0.00</td>\n",
       "      <td>1</td>\n",
       "      <td>1</td>\n",
       "      <td>1</td>\n",
       "      <td>101348.88</td>\n",
       "      <td>1</td>\n",
       "    </tr>\n",
       "    <tr>\n",
       "      <th>1</th>\n",
       "      <td>2</td>\n",
       "      <td>15647311</td>\n",
       "      <td>Hill</td>\n",
       "      <td>608</td>\n",
       "      <td>Spain</td>\n",
       "      <td>Female</td>\n",
       "      <td>41</td>\n",
       "      <td>1</td>\n",
       "      <td>83807.86</td>\n",
       "      <td>1</td>\n",
       "      <td>0</td>\n",
       "      <td>1</td>\n",
       "      <td>112542.58</td>\n",
       "      <td>0</td>\n",
       "    </tr>\n",
       "    <tr>\n",
       "      <th>2</th>\n",
       "      <td>3</td>\n",
       "      <td>15619304</td>\n",
       "      <td>Onio</td>\n",
       "      <td>502</td>\n",
       "      <td>France</td>\n",
       "      <td>Female</td>\n",
       "      <td>42</td>\n",
       "      <td>8</td>\n",
       "      <td>159660.80</td>\n",
       "      <td>3</td>\n",
       "      <td>1</td>\n",
       "      <td>0</td>\n",
       "      <td>113931.57</td>\n",
       "      <td>1</td>\n",
       "    </tr>\n",
       "    <tr>\n",
       "      <th>3</th>\n",
       "      <td>4</td>\n",
       "      <td>15701354</td>\n",
       "      <td>Boni</td>\n",
       "      <td>699</td>\n",
       "      <td>France</td>\n",
       "      <td>Female</td>\n",
       "      <td>39</td>\n",
       "      <td>1</td>\n",
       "      <td>0.00</td>\n",
       "      <td>2</td>\n",
       "      <td>0</td>\n",
       "      <td>0</td>\n",
       "      <td>93826.63</td>\n",
       "      <td>0</td>\n",
       "    </tr>\n",
       "    <tr>\n",
       "      <th>4</th>\n",
       "      <td>5</td>\n",
       "      <td>15737888</td>\n",
       "      <td>Mitchell</td>\n",
       "      <td>850</td>\n",
       "      <td>Spain</td>\n",
       "      <td>Female</td>\n",
       "      <td>43</td>\n",
       "      <td>2</td>\n",
       "      <td>125510.82</td>\n",
       "      <td>1</td>\n",
       "      <td>1</td>\n",
       "      <td>1</td>\n",
       "      <td>79084.10</td>\n",
       "      <td>0</td>\n",
       "    </tr>\n",
       "    <tr>\n",
       "      <th>...</th>\n",
       "      <td>...</td>\n",
       "      <td>...</td>\n",
       "      <td>...</td>\n",
       "      <td>...</td>\n",
       "      <td>...</td>\n",
       "      <td>...</td>\n",
       "      <td>...</td>\n",
       "      <td>...</td>\n",
       "      <td>...</td>\n",
       "      <td>...</td>\n",
       "      <td>...</td>\n",
       "      <td>...</td>\n",
       "      <td>...</td>\n",
       "      <td>...</td>\n",
       "    </tr>\n",
       "    <tr>\n",
       "      <th>9995</th>\n",
       "      <td>9996</td>\n",
       "      <td>15606229</td>\n",
       "      <td>Obijiaku</td>\n",
       "      <td>771</td>\n",
       "      <td>France</td>\n",
       "      <td>Male</td>\n",
       "      <td>39</td>\n",
       "      <td>5</td>\n",
       "      <td>0.00</td>\n",
       "      <td>2</td>\n",
       "      <td>1</td>\n",
       "      <td>0</td>\n",
       "      <td>96270.64</td>\n",
       "      <td>0</td>\n",
       "    </tr>\n",
       "    <tr>\n",
       "      <th>9996</th>\n",
       "      <td>9997</td>\n",
       "      <td>15569892</td>\n",
       "      <td>Johnstone</td>\n",
       "      <td>516</td>\n",
       "      <td>France</td>\n",
       "      <td>Male</td>\n",
       "      <td>35</td>\n",
       "      <td>10</td>\n",
       "      <td>57369.61</td>\n",
       "      <td>1</td>\n",
       "      <td>1</td>\n",
       "      <td>1</td>\n",
       "      <td>101699.77</td>\n",
       "      <td>0</td>\n",
       "    </tr>\n",
       "    <tr>\n",
       "      <th>9997</th>\n",
       "      <td>9998</td>\n",
       "      <td>15584532</td>\n",
       "      <td>Liu</td>\n",
       "      <td>709</td>\n",
       "      <td>France</td>\n",
       "      <td>Female</td>\n",
       "      <td>36</td>\n",
       "      <td>7</td>\n",
       "      <td>0.00</td>\n",
       "      <td>1</td>\n",
       "      <td>0</td>\n",
       "      <td>1</td>\n",
       "      <td>42085.58</td>\n",
       "      <td>1</td>\n",
       "    </tr>\n",
       "    <tr>\n",
       "      <th>9998</th>\n",
       "      <td>9999</td>\n",
       "      <td>15682355</td>\n",
       "      <td>Sabbatini</td>\n",
       "      <td>772</td>\n",
       "      <td>Germany</td>\n",
       "      <td>Male</td>\n",
       "      <td>42</td>\n",
       "      <td>3</td>\n",
       "      <td>75075.31</td>\n",
       "      <td>2</td>\n",
       "      <td>1</td>\n",
       "      <td>0</td>\n",
       "      <td>92888.52</td>\n",
       "      <td>1</td>\n",
       "    </tr>\n",
       "    <tr>\n",
       "      <th>9999</th>\n",
       "      <td>10000</td>\n",
       "      <td>15628319</td>\n",
       "      <td>Walker</td>\n",
       "      <td>792</td>\n",
       "      <td>France</td>\n",
       "      <td>Female</td>\n",
       "      <td>28</td>\n",
       "      <td>4</td>\n",
       "      <td>130142.79</td>\n",
       "      <td>1</td>\n",
       "      <td>1</td>\n",
       "      <td>0</td>\n",
       "      <td>38190.78</td>\n",
       "      <td>0</td>\n",
       "    </tr>\n",
       "  </tbody>\n",
       "</table>\n",
       "<p>10000 rows × 14 columns</p>\n",
       "</div>"
      ],
      "text/plain": [
       "      RowNumber  CustomerId    Surname  CreditScore Geography  Gender  Age  \\\n",
       "0             1    15634602   Hargrave          619    France  Female   42   \n",
       "1             2    15647311       Hill          608     Spain  Female   41   \n",
       "2             3    15619304       Onio          502    France  Female   42   \n",
       "3             4    15701354       Boni          699    France  Female   39   \n",
       "4             5    15737888   Mitchell          850     Spain  Female   43   \n",
       "...         ...         ...        ...          ...       ...     ...  ...   \n",
       "9995       9996    15606229   Obijiaku          771    France    Male   39   \n",
       "9996       9997    15569892  Johnstone          516    France    Male   35   \n",
       "9997       9998    15584532        Liu          709    France  Female   36   \n",
       "9998       9999    15682355  Sabbatini          772   Germany    Male   42   \n",
       "9999      10000    15628319     Walker          792    France  Female   28   \n",
       "\n",
       "      Tenure    Balance  NumOfProducts  HasCrCard  IsActiveMember  \\\n",
       "0          2       0.00              1          1               1   \n",
       "1          1   83807.86              1          0               1   \n",
       "2          8  159660.80              3          1               0   \n",
       "3          1       0.00              2          0               0   \n",
       "4          2  125510.82              1          1               1   \n",
       "...      ...        ...            ...        ...             ...   \n",
       "9995       5       0.00              2          1               0   \n",
       "9996      10   57369.61              1          1               1   \n",
       "9997       7       0.00              1          0               1   \n",
       "9998       3   75075.31              2          1               0   \n",
       "9999       4  130142.79              1          1               0   \n",
       "\n",
       "      EstimatedSalary  Exited  \n",
       "0           101348.88       1  \n",
       "1           112542.58       0  \n",
       "2           113931.57       1  \n",
       "3            93826.63       0  \n",
       "4            79084.10       0  \n",
       "...               ...     ...  \n",
       "9995         96270.64       0  \n",
       "9996        101699.77       0  \n",
       "9997         42085.58       1  \n",
       "9998         92888.52       1  \n",
       "9999         38190.78       0  \n",
       "\n",
       "[10000 rows x 14 columns]"
      ]
     },
     "execution_count": 2,
     "metadata": {},
     "output_type": "execute_result"
    }
   ],
   "source": [
    "data = pd.read_csv('Data Konsumen.csv')\n",
    "data"
   ]
  },
  {
   "cell_type": "markdown",
   "id": "68bf49b2",
   "metadata": {},
   "source": [
    "## - Membaca Dataset"
   ]
  },
  {
   "cell_type": "code",
   "execution_count": 3,
   "id": "acba5ba3",
   "metadata": {},
   "outputs": [
    {
     "data": {
      "text/html": [
       "<div>\n",
       "<style scoped>\n",
       "    .dataframe tbody tr th:only-of-type {\n",
       "        vertical-align: middle;\n",
       "    }\n",
       "\n",
       "    .dataframe tbody tr th {\n",
       "        vertical-align: top;\n",
       "    }\n",
       "\n",
       "    .dataframe thead th {\n",
       "        text-align: right;\n",
       "    }\n",
       "</style>\n",
       "<table border=\"1\" class=\"dataframe\">\n",
       "  <thead>\n",
       "    <tr style=\"text-align: right;\">\n",
       "      <th></th>\n",
       "      <th>RowNumber</th>\n",
       "      <th>CustomerId</th>\n",
       "      <th>Surname</th>\n",
       "      <th>CreditScore</th>\n",
       "      <th>Geography</th>\n",
       "      <th>Gender</th>\n",
       "      <th>Age</th>\n",
       "      <th>Tenure</th>\n",
       "      <th>Balance</th>\n",
       "      <th>NumOfProducts</th>\n",
       "      <th>HasCrCard</th>\n",
       "      <th>IsActiveMember</th>\n",
       "      <th>EstimatedSalary</th>\n",
       "      <th>Exited</th>\n",
       "    </tr>\n",
       "  </thead>\n",
       "  <tbody>\n",
       "    <tr>\n",
       "      <th>0</th>\n",
       "      <td>1</td>\n",
       "      <td>15634602</td>\n",
       "      <td>Hargrave</td>\n",
       "      <td>619</td>\n",
       "      <td>France</td>\n",
       "      <td>Female</td>\n",
       "      <td>42</td>\n",
       "      <td>2</td>\n",
       "      <td>0.00</td>\n",
       "      <td>1</td>\n",
       "      <td>1</td>\n",
       "      <td>1</td>\n",
       "      <td>101348.88</td>\n",
       "      <td>1</td>\n",
       "    </tr>\n",
       "    <tr>\n",
       "      <th>1</th>\n",
       "      <td>2</td>\n",
       "      <td>15647311</td>\n",
       "      <td>Hill</td>\n",
       "      <td>608</td>\n",
       "      <td>Spain</td>\n",
       "      <td>Female</td>\n",
       "      <td>41</td>\n",
       "      <td>1</td>\n",
       "      <td>83807.86</td>\n",
       "      <td>1</td>\n",
       "      <td>0</td>\n",
       "      <td>1</td>\n",
       "      <td>112542.58</td>\n",
       "      <td>0</td>\n",
       "    </tr>\n",
       "    <tr>\n",
       "      <th>2</th>\n",
       "      <td>3</td>\n",
       "      <td>15619304</td>\n",
       "      <td>Onio</td>\n",
       "      <td>502</td>\n",
       "      <td>France</td>\n",
       "      <td>Female</td>\n",
       "      <td>42</td>\n",
       "      <td>8</td>\n",
       "      <td>159660.80</td>\n",
       "      <td>3</td>\n",
       "      <td>1</td>\n",
       "      <td>0</td>\n",
       "      <td>113931.57</td>\n",
       "      <td>1</td>\n",
       "    </tr>\n",
       "    <tr>\n",
       "      <th>3</th>\n",
       "      <td>4</td>\n",
       "      <td>15701354</td>\n",
       "      <td>Boni</td>\n",
       "      <td>699</td>\n",
       "      <td>France</td>\n",
       "      <td>Female</td>\n",
       "      <td>39</td>\n",
       "      <td>1</td>\n",
       "      <td>0.00</td>\n",
       "      <td>2</td>\n",
       "      <td>0</td>\n",
       "      <td>0</td>\n",
       "      <td>93826.63</td>\n",
       "      <td>0</td>\n",
       "    </tr>\n",
       "    <tr>\n",
       "      <th>4</th>\n",
       "      <td>5</td>\n",
       "      <td>15737888</td>\n",
       "      <td>Mitchell</td>\n",
       "      <td>850</td>\n",
       "      <td>Spain</td>\n",
       "      <td>Female</td>\n",
       "      <td>43</td>\n",
       "      <td>2</td>\n",
       "      <td>125510.82</td>\n",
       "      <td>1</td>\n",
       "      <td>1</td>\n",
       "      <td>1</td>\n",
       "      <td>79084.10</td>\n",
       "      <td>0</td>\n",
       "    </tr>\n",
       "  </tbody>\n",
       "</table>\n",
       "</div>"
      ],
      "text/plain": [
       "   RowNumber  CustomerId   Surname  CreditScore Geography  Gender  Age  \\\n",
       "0          1    15634602  Hargrave          619    France  Female   42   \n",
       "1          2    15647311      Hill          608     Spain  Female   41   \n",
       "2          3    15619304      Onio          502    France  Female   42   \n",
       "3          4    15701354      Boni          699    France  Female   39   \n",
       "4          5    15737888  Mitchell          850     Spain  Female   43   \n",
       "\n",
       "   Tenure    Balance  NumOfProducts  HasCrCard  IsActiveMember  \\\n",
       "0       2       0.00              1          1               1   \n",
       "1       1   83807.86              1          0               1   \n",
       "2       8  159660.80              3          1               0   \n",
       "3       1       0.00              2          0               0   \n",
       "4       2  125510.82              1          1               1   \n",
       "\n",
       "   EstimatedSalary  Exited  \n",
       "0        101348.88       1  \n",
       "1        112542.58       0  \n",
       "2        113931.57       1  \n",
       "3         93826.63       0  \n",
       "4         79084.10       0  "
      ]
     },
     "execution_count": 3,
     "metadata": {},
     "output_type": "execute_result"
    }
   ],
   "source": [
    "data.head()"
   ]
  },
  {
   "cell_type": "code",
   "execution_count": 4,
   "id": "eba4cfaa",
   "metadata": {},
   "outputs": [
    {
     "data": {
      "text/plain": [
       "(10000, 14)"
      ]
     },
     "execution_count": 4,
     "metadata": {},
     "output_type": "execute_result"
    }
   ],
   "source": [
    "data.shape"
   ]
  },
  {
   "cell_type": "code",
   "execution_count": 5,
   "id": "038b7787",
   "metadata": {},
   "outputs": [
    {
     "data": {
      "text/plain": [
       "Index(['RowNumber', 'CustomerId', 'Surname', 'CreditScore', 'Geography',\n",
       "       'Gender', 'Age', 'Tenure', 'Balance', 'NumOfProducts', 'HasCrCard',\n",
       "       'IsActiveMember', 'EstimatedSalary', 'Exited'],\n",
       "      dtype='object')"
      ]
     },
     "execution_count": 5,
     "metadata": {},
     "output_type": "execute_result"
    }
   ],
   "source": [
    "data.columns"
   ]
  },
  {
   "cell_type": "code",
   "execution_count": 6,
   "id": "47004ecc",
   "metadata": {},
   "outputs": [
    {
     "name": "stdout",
     "output_type": "stream",
     "text": [
      "<class 'pandas.core.frame.DataFrame'>\n",
      "RangeIndex: 10000 entries, 0 to 9999\n",
      "Data columns (total 14 columns):\n",
      " #   Column           Non-Null Count  Dtype  \n",
      "---  ------           --------------  -----  \n",
      " 0   RowNumber        10000 non-null  int64  \n",
      " 1   CustomerId       10000 non-null  int64  \n",
      " 2   Surname          10000 non-null  object \n",
      " 3   CreditScore      10000 non-null  int64  \n",
      " 4   Geography        10000 non-null  object \n",
      " 5   Gender           10000 non-null  object \n",
      " 6   Age              10000 non-null  int64  \n",
      " 7   Tenure           10000 non-null  int64  \n",
      " 8   Balance          10000 non-null  float64\n",
      " 9   NumOfProducts    10000 non-null  int64  \n",
      " 10  HasCrCard        10000 non-null  int64  \n",
      " 11  IsActiveMember   10000 non-null  int64  \n",
      " 12  EstimatedSalary  10000 non-null  float64\n",
      " 13  Exited           10000 non-null  int64  \n",
      "dtypes: float64(2), int64(9), object(3)\n",
      "memory usage: 1.1+ MB\n"
     ]
    }
   ],
   "source": [
    "data.info()"
   ]
  },
  {
   "cell_type": "code",
   "execution_count": 7,
   "id": "7d2e1a4b",
   "metadata": {},
   "outputs": [
    {
     "data": {
      "text/html": [
       "<div>\n",
       "<style scoped>\n",
       "    .dataframe tbody tr th:only-of-type {\n",
       "        vertical-align: middle;\n",
       "    }\n",
       "\n",
       "    .dataframe tbody tr th {\n",
       "        vertical-align: top;\n",
       "    }\n",
       "\n",
       "    .dataframe thead th {\n",
       "        text-align: right;\n",
       "    }\n",
       "</style>\n",
       "<table border=\"1\" class=\"dataframe\">\n",
       "  <thead>\n",
       "    <tr style=\"text-align: right;\">\n",
       "      <th></th>\n",
       "      <th>RowNumber</th>\n",
       "      <th>CustomerId</th>\n",
       "      <th>CreditScore</th>\n",
       "      <th>Age</th>\n",
       "      <th>Tenure</th>\n",
       "      <th>Balance</th>\n",
       "      <th>NumOfProducts</th>\n",
       "      <th>HasCrCard</th>\n",
       "      <th>IsActiveMember</th>\n",
       "      <th>EstimatedSalary</th>\n",
       "      <th>Exited</th>\n",
       "    </tr>\n",
       "  </thead>\n",
       "  <tbody>\n",
       "    <tr>\n",
       "      <th>count</th>\n",
       "      <td>10000.00000</td>\n",
       "      <td>1.000000e+04</td>\n",
       "      <td>10000.000000</td>\n",
       "      <td>10000.000000</td>\n",
       "      <td>10000.000000</td>\n",
       "      <td>10000.000000</td>\n",
       "      <td>10000.000000</td>\n",
       "      <td>10000.00000</td>\n",
       "      <td>10000.000000</td>\n",
       "      <td>10000.000000</td>\n",
       "      <td>10000.000000</td>\n",
       "    </tr>\n",
       "    <tr>\n",
       "      <th>mean</th>\n",
       "      <td>5000.50000</td>\n",
       "      <td>1.569094e+07</td>\n",
       "      <td>650.528800</td>\n",
       "      <td>38.921800</td>\n",
       "      <td>5.012800</td>\n",
       "      <td>76485.889288</td>\n",
       "      <td>1.530200</td>\n",
       "      <td>0.70550</td>\n",
       "      <td>0.515100</td>\n",
       "      <td>100090.239881</td>\n",
       "      <td>0.203700</td>\n",
       "    </tr>\n",
       "    <tr>\n",
       "      <th>std</th>\n",
       "      <td>2886.89568</td>\n",
       "      <td>7.193619e+04</td>\n",
       "      <td>96.653299</td>\n",
       "      <td>10.487806</td>\n",
       "      <td>2.892174</td>\n",
       "      <td>62397.405202</td>\n",
       "      <td>0.581654</td>\n",
       "      <td>0.45584</td>\n",
       "      <td>0.499797</td>\n",
       "      <td>57510.492818</td>\n",
       "      <td>0.402769</td>\n",
       "    </tr>\n",
       "    <tr>\n",
       "      <th>min</th>\n",
       "      <td>1.00000</td>\n",
       "      <td>1.556570e+07</td>\n",
       "      <td>350.000000</td>\n",
       "      <td>18.000000</td>\n",
       "      <td>0.000000</td>\n",
       "      <td>0.000000</td>\n",
       "      <td>1.000000</td>\n",
       "      <td>0.00000</td>\n",
       "      <td>0.000000</td>\n",
       "      <td>11.580000</td>\n",
       "      <td>0.000000</td>\n",
       "    </tr>\n",
       "    <tr>\n",
       "      <th>25%</th>\n",
       "      <td>2500.75000</td>\n",
       "      <td>1.562853e+07</td>\n",
       "      <td>584.000000</td>\n",
       "      <td>32.000000</td>\n",
       "      <td>3.000000</td>\n",
       "      <td>0.000000</td>\n",
       "      <td>1.000000</td>\n",
       "      <td>0.00000</td>\n",
       "      <td>0.000000</td>\n",
       "      <td>51002.110000</td>\n",
       "      <td>0.000000</td>\n",
       "    </tr>\n",
       "    <tr>\n",
       "      <th>50%</th>\n",
       "      <td>5000.50000</td>\n",
       "      <td>1.569074e+07</td>\n",
       "      <td>652.000000</td>\n",
       "      <td>37.000000</td>\n",
       "      <td>5.000000</td>\n",
       "      <td>97198.540000</td>\n",
       "      <td>1.000000</td>\n",
       "      <td>1.00000</td>\n",
       "      <td>1.000000</td>\n",
       "      <td>100193.915000</td>\n",
       "      <td>0.000000</td>\n",
       "    </tr>\n",
       "    <tr>\n",
       "      <th>75%</th>\n",
       "      <td>7500.25000</td>\n",
       "      <td>1.575323e+07</td>\n",
       "      <td>718.000000</td>\n",
       "      <td>44.000000</td>\n",
       "      <td>7.000000</td>\n",
       "      <td>127644.240000</td>\n",
       "      <td>2.000000</td>\n",
       "      <td>1.00000</td>\n",
       "      <td>1.000000</td>\n",
       "      <td>149388.247500</td>\n",
       "      <td>0.000000</td>\n",
       "    </tr>\n",
       "    <tr>\n",
       "      <th>max</th>\n",
       "      <td>10000.00000</td>\n",
       "      <td>1.581569e+07</td>\n",
       "      <td>850.000000</td>\n",
       "      <td>92.000000</td>\n",
       "      <td>10.000000</td>\n",
       "      <td>250898.090000</td>\n",
       "      <td>4.000000</td>\n",
       "      <td>1.00000</td>\n",
       "      <td>1.000000</td>\n",
       "      <td>199992.480000</td>\n",
       "      <td>1.000000</td>\n",
       "    </tr>\n",
       "  </tbody>\n",
       "</table>\n",
       "</div>"
      ],
      "text/plain": [
       "         RowNumber    CustomerId   CreditScore           Age        Tenure  \\\n",
       "count  10000.00000  1.000000e+04  10000.000000  10000.000000  10000.000000   \n",
       "mean    5000.50000  1.569094e+07    650.528800     38.921800      5.012800   \n",
       "std     2886.89568  7.193619e+04     96.653299     10.487806      2.892174   \n",
       "min        1.00000  1.556570e+07    350.000000     18.000000      0.000000   \n",
       "25%     2500.75000  1.562853e+07    584.000000     32.000000      3.000000   \n",
       "50%     5000.50000  1.569074e+07    652.000000     37.000000      5.000000   \n",
       "75%     7500.25000  1.575323e+07    718.000000     44.000000      7.000000   \n",
       "max    10000.00000  1.581569e+07    850.000000     92.000000     10.000000   \n",
       "\n",
       "             Balance  NumOfProducts    HasCrCard  IsActiveMember  \\\n",
       "count   10000.000000   10000.000000  10000.00000    10000.000000   \n",
       "mean    76485.889288       1.530200      0.70550        0.515100   \n",
       "std     62397.405202       0.581654      0.45584        0.499797   \n",
       "min         0.000000       1.000000      0.00000        0.000000   \n",
       "25%         0.000000       1.000000      0.00000        0.000000   \n",
       "50%     97198.540000       1.000000      1.00000        1.000000   \n",
       "75%    127644.240000       2.000000      1.00000        1.000000   \n",
       "max    250898.090000       4.000000      1.00000        1.000000   \n",
       "\n",
       "       EstimatedSalary        Exited  \n",
       "count     10000.000000  10000.000000  \n",
       "mean     100090.239881      0.203700  \n",
       "std       57510.492818      0.402769  \n",
       "min          11.580000      0.000000  \n",
       "25%       51002.110000      0.000000  \n",
       "50%      100193.915000      0.000000  \n",
       "75%      149388.247500      0.000000  \n",
       "max      199992.480000      1.000000  "
      ]
     },
     "execution_count": 7,
     "metadata": {},
     "output_type": "execute_result"
    }
   ],
   "source": [
    "data.describe()"
   ]
  },
  {
   "cell_type": "code",
   "execution_count": 8,
   "id": "887f3f89",
   "metadata": {},
   "outputs": [
    {
     "data": {
      "text/plain": [
       "<AxesSubplot:>"
      ]
     },
     "execution_count": 8,
     "metadata": {},
     "output_type": "execute_result"
    },
    {
     "data": {
      "image/png": "[encoded data removed]",
      "text/plain": [
       "<Figure size 1000x600 with 1 Axes>"
      ]
     },
     "metadata": {},
     "output_type": "display_data"
    }
   ],
   "source": [
    "plt.figure (figsize=(10,6))\n",
    "sns.heatmap(data.isnull(), yticklabels = False, cmap = 'viridis' , cbar = False)"
   ]
  },
  {
   "cell_type": "markdown",
   "id": "67fd0138",
   "metadata": {},
   "source": [
    "## - Korelasi antar Dataset"
   ]
  },
  {
   "cell_type": "code",
   "execution_count": 9,
   "id": "184b2f1b",
   "metadata": {},
   "outputs": [
    {
     "data": {
      "text/html": [
       "<style type=\"text/css\">\n",
       "#T_a6649_row0_col0, #T_a6649_row1_col1, #T_a6649_row2_col2, #T_a6649_row3_col3, #T_a6649_row4_col4, #T_a6649_row5_col5, #T_a6649_row6_col6, #T_a6649_row7_col7, #T_a6649_row8_col8, #T_a6649_row9_col9, #T_a6649_row10_col10 {\n",
       "  background-color: #023858;\n",
       "  color: #f1f1f1;\n",
       "}\n",
       "#T_a6649_row0_col1, #T_a6649_row0_col7, #T_a6649_row1_col4, #T_a6649_row3_col0, #T_a6649_row3_col4, #T_a6649_row4_col9, #T_a6649_row5_col4, #T_a6649_row6_col7, #T_a6649_row7_col0, #T_a6649_row7_col3, #T_a6649_row8_col1, #T_a6649_row10_col4 {\n",
       "  background-color: #fdf5fa;\n",
       "  color: #000000;\n",
       "}\n",
       "#T_a6649_row0_col2, #T_a6649_row1_col2, #T_a6649_row5_col2, #T_a6649_row6_col1, #T_a6649_row9_col4 {\n",
       "  background-color: #faf3f9;\n",
       "  color: #000000;\n",
       "}\n",
       "#T_a6649_row0_col3, #T_a6649_row2_col4, #T_a6649_row8_col0, #T_a6649_row9_col1 {\n",
       "  background-color: #fbf3f9;\n",
       "  color: #000000;\n",
       "}\n",
       "#T_a6649_row0_col4, #T_a6649_row1_col0, #T_a6649_row2_col0, #T_a6649_row2_col1, #T_a6649_row3_col2, #T_a6649_row4_col3, #T_a6649_row6_col0, #T_a6649_row7_col2, #T_a6649_row9_col3, #T_a6649_row10_col9 {\n",
       "  background-color: #fcf4fa;\n",
       "  color: #000000;\n",
       "}\n",
       "#T_a6649_row0_col5, #T_a6649_row1_col5, #T_a6649_row4_col5, #T_a6649_row8_col5 {\n",
       "  background-color: #d6d6e9;\n",
       "  color: #000000;\n",
       "}\n",
       "#T_a6649_row0_col6, #T_a6649_row8_col6 {\n",
       "  background-color: #d2d3e7;\n",
       "  color: #000000;\n",
       "}\n",
       "#T_a6649_row0_col8, #T_a6649_row9_col10 {\n",
       "  background-color: #e7e3f0;\n",
       "  color: #000000;\n",
       "}\n",
       "#T_a6649_row0_col9, #T_a6649_row3_col9, #T_a6649_row5_col0, #T_a6649_row9_col7, #T_a6649_row10_col7 {\n",
       "  background-color: #fef6fb;\n",
       "  color: #000000;\n",
       "}\n",
       "#T_a6649_row0_col10 {\n",
       "  background-color: #ede8f3;\n",
       "  color: #000000;\n",
       "}\n",
       "#T_a6649_row1_col3, #T_a6649_row4_col7, #T_a6649_row6_col2 {\n",
       "  background-color: #faf2f8;\n",
       "  color: #000000;\n",
       "}\n",
       "#T_a6649_row1_col6 {\n",
       "  background-color: #d1d2e6;\n",
       "  color: #000000;\n",
       "}\n",
       "#T_a6649_row1_col7, #T_a6649_row3_col7, #T_a6649_row4_col1, #T_a6649_row5_col1, #T_a6649_row5_col6, #T_a6649_row5_col7, #T_a6649_row6_col3, #T_a6649_row6_col5, #T_a6649_row7_col1, #T_a6649_row7_col9, #T_a6649_row8_col4, #T_a6649_row8_col7, #T_a6649_row8_col9, #T_a6649_row8_col10, #T_a6649_row10_col0, #T_a6649_row10_col2, #T_a6649_row10_col8 {\n",
       "  background-color: #fff7fb;\n",
       "  color: #000000;\n",
       "}\n",
       "#T_a6649_row1_col8 {\n",
       "  background-color: #eae6f1;\n",
       "  color: #000000;\n",
       "}\n",
       "#T_a6649_row1_col9, #T_a6649_row2_col3, #T_a6649_row3_col1, #T_a6649_row4_col2, #T_a6649_row5_col9, #T_a6649_row6_col9, #T_a6649_row9_col2 {\n",
       "  background-color: #fbf4f9;\n",
       "  color: #000000;\n",
       "}\n",
       "#T_a6649_row1_col10 {\n",
       "  background-color: #ebe6f2;\n",
       "  color: #000000;\n",
       "}\n",
       "#T_a6649_row2_col5, #T_a6649_row5_col10, #T_a6649_row7_col6 {\n",
       "  background-color: #d3d4e7;\n",
       "  color: #000000;\n",
       "}\n",
       "#T_a6649_row2_col6, #T_a6649_row4_col6, #T_a6649_row9_col5, #T_a6649_row9_col6 {\n",
       "  background-color: #d2d2e7;\n",
       "  color: #000000;\n",
       "}\n",
       "#T_a6649_row2_col7, #T_a6649_row2_col9, #T_a6649_row4_col0, #T_a6649_row9_col0, #T_a6649_row10_col1 {\n",
       "  background-color: #fef6fa;\n",
       "  color: #000000;\n",
       "}\n",
       "#T_a6649_row2_col8 {\n",
       "  background-color: #e5e1ef;\n",
       "  color: #000000;\n",
       "}\n",
       "#T_a6649_row2_col10, #T_a6649_row4_col8, #T_a6649_row8_col3 {\n",
       "  background-color: #eee9f3;\n",
       "  color: #000000;\n",
       "}\n",
       "#T_a6649_row3_col5 {\n",
       "  background-color: #ced0e6;\n",
       "  color: #000000;\n",
       "}\n",
       "#T_a6649_row3_col6, #T_a6649_row3_col8 {\n",
       "  background-color: #d9d8ea;\n",
       "  color: #000000;\n",
       "}\n",
       "#T_a6649_row3_col10 {\n",
       "  background-color: #a4bcda;\n",
       "  color: #000000;\n",
       "}\n",
       "#T_a6649_row4_col10, #T_a6649_row7_col8 {\n",
       "  background-color: #ede7f2;\n",
       "  color: #000000;\n",
       "}\n",
       "#T_a6649_row5_col3, #T_a6649_row8_col2 {\n",
       "  background-color: #f7f0f7;\n",
       "  color: #000000;\n",
       "}\n",
       "#T_a6649_row5_col8, #T_a6649_row7_col10, #T_a6649_row9_col8 {\n",
       "  background-color: #ece7f2;\n",
       "  color: #000000;\n",
       "}\n",
       "#T_a6649_row6_col4 {\n",
       "  background-color: #f9f2f8;\n",
       "  color: #000000;\n",
       "}\n",
       "#T_a6649_row6_col8 {\n",
       "  background-color: #e8e4f0;\n",
       "  color: #000000;\n",
       "}\n",
       "#T_a6649_row6_col10 {\n",
       "  background-color: #f1ebf5;\n",
       "  color: #000000;\n",
       "}\n",
       "#T_a6649_row7_col4 {\n",
       "  background-color: #f8f1f8;\n",
       "  color: #000000;\n",
       "}\n",
       "#T_a6649_row7_col5 {\n",
       "  background-color: #d7d6e9;\n",
       "  color: #000000;\n",
       "}\n",
       "#T_a6649_row10_col3 {\n",
       "  background-color: #bdc8e1;\n",
       "  color: #000000;\n",
       "}\n",
       "#T_a6649_row10_col5 {\n",
       "  background-color: #b8c6e0;\n",
       "  color: #000000;\n",
       "}\n",
       "#T_a6649_row10_col6 {\n",
       "  background-color: #dcdaeb;\n",
       "  color: #000000;\n",
       "}\n",
       "</style>\n",
       "<table id=\"T_a6649\">\n",
       "  <thead>\n",
       "    <tr>\n",
       "      <th class=\"blank level0\" >&nbsp;</th>\n",
       "      <th id=\"T_a6649_level0_col0\" class=\"col_heading level0 col0\" >RowNumber</th>\n",
       "      <th id=\"T_a6649_level0_col1\" class=\"col_heading level0 col1\" >CustomerId</th>\n",
       "      <th id=\"T_a6649_level0_col2\" class=\"col_heading level0 col2\" >CreditScore</th>\n",
       "      <th id=\"T_a6649_level0_col3\" class=\"col_heading level0 col3\" >Age</th>\n",
       "      <th id=\"T_a6649_level0_col4\" class=\"col_heading level0 col4\" >Tenure</th>\n",
       "      <th id=\"T_a6649_level0_col5\" class=\"col_heading level0 col5\" >Balance</th>\n",
       "      <th id=\"T_a6649_level0_col6\" class=\"col_heading level0 col6\" >NumOfProducts</th>\n",
       "      <th id=\"T_a6649_level0_col7\" class=\"col_heading level0 col7\" >HasCrCard</th>\n",
       "      <th id=\"T_a6649_level0_col8\" class=\"col_heading level0 col8\" >IsActiveMember</th>\n",
       "      <th id=\"T_a6649_level0_col9\" class=\"col_heading level0 col9\" >EstimatedSalary</th>\n",
       "      <th id=\"T_a6649_level0_col10\" class=\"col_heading level0 col10\" >Exited</th>\n",
       "    </tr>\n",
       "  </thead>\n",
       "  <tbody>\n",
       "    <tr>\n",
       "      <th id=\"T_a6649_level0_row0\" class=\"row_heading level0 row0\" >RowNumber</th>\n",
       "      <td id=\"T_a6649_row0_col0\" class=\"data row0 col0\" >1.00</td>\n",
       "      <td id=\"T_a6649_row0_col1\" class=\"data row0 col1\" >0.00</td>\n",
       "      <td id=\"T_a6649_row0_col2\" class=\"data row0 col2\" >0.01</td>\n",
       "      <td id=\"T_a6649_row0_col3\" class=\"data row0 col3\" >0.00</td>\n",
       "      <td id=\"T_a6649_row0_col4\" class=\"data row0 col4\" >-0.01</td>\n",
       "      <td id=\"T_a6649_row0_col5\" class=\"data row0 col5\" >-0.01</td>\n",
       "      <td id=\"T_a6649_row0_col6\" class=\"data row0 col6\" >0.01</td>\n",
       "      <td id=\"T_a6649_row0_col7\" class=\"data row0 col7\" >0.00</td>\n",
       "      <td id=\"T_a6649_row0_col8\" class=\"data row0 col8\" >0.01</td>\n",
       "      <td id=\"T_a6649_row0_col9\" class=\"data row0 col9\" >-0.01</td>\n",
       "      <td id=\"T_a6649_row0_col10\" class=\"data row0 col10\" >-0.02</td>\n",
       "    </tr>\n",
       "    <tr>\n",
       "      <th id=\"T_a6649_level0_row1\" class=\"row_heading level0 row1\" >CustomerId</th>\n",
       "      <td id=\"T_a6649_row1_col0\" class=\"data row1 col0\" >0.00</td>\n",
       "      <td id=\"T_a6649_row1_col1\" class=\"data row1 col1\" >1.00</td>\n",
       "      <td id=\"T_a6649_row1_col2\" class=\"data row1 col2\" >0.01</td>\n",
       "      <td id=\"T_a6649_row1_col3\" class=\"data row1 col3\" >0.01</td>\n",
       "      <td id=\"T_a6649_row1_col4\" class=\"data row1 col4\" >-0.01</td>\n",
       "      <td id=\"T_a6649_row1_col5\" class=\"data row1 col5\" >-0.01</td>\n",
       "      <td id=\"T_a6649_row1_col6\" class=\"data row1 col6\" >0.02</td>\n",
       "      <td id=\"T_a6649_row1_col7\" class=\"data row1 col7\" >-0.01</td>\n",
       "      <td id=\"T_a6649_row1_col8\" class=\"data row1 col8\" >0.00</td>\n",
       "      <td id=\"T_a6649_row1_col9\" class=\"data row1 col9\" >0.02</td>\n",
       "      <td id=\"T_a6649_row1_col10\" class=\"data row1 col10\" >-0.01</td>\n",
       "    </tr>\n",
       "    <tr>\n",
       "      <th id=\"T_a6649_level0_row2\" class=\"row_heading level0 row2\" >CreditScore</th>\n",
       "      <td id=\"T_a6649_row2_col0\" class=\"data row2 col0\" >0.01</td>\n",
       "      <td id=\"T_a6649_row2_col1\" class=\"data row2 col1\" >0.01</td>\n",
       "      <td id=\"T_a6649_row2_col2\" class=\"data row2 col2\" >1.00</td>\n",
       "      <td id=\"T_a6649_row2_col3\" class=\"data row2 col3\" >-0.00</td>\n",
       "      <td id=\"T_a6649_row2_col4\" class=\"data row2 col4\" >0.00</td>\n",
       "      <td id=\"T_a6649_row2_col5\" class=\"data row2 col5\" >0.01</td>\n",
       "      <td id=\"T_a6649_row2_col6\" class=\"data row2 col6\" >0.01</td>\n",
       "      <td id=\"T_a6649_row2_col7\" class=\"data row2 col7\" >-0.01</td>\n",
       "      <td id=\"T_a6649_row2_col8\" class=\"data row2 col8\" >0.03</td>\n",
       "      <td id=\"T_a6649_row2_col9\" class=\"data row2 col9\" >-0.00</td>\n",
       "      <td id=\"T_a6649_row2_col10\" class=\"data row2 col10\" >-0.03</td>\n",
       "    </tr>\n",
       "    <tr>\n",
       "      <th id=\"T_a6649_level0_row3\" class=\"row_heading level0 row3\" >Age</th>\n",
       "      <td id=\"T_a6649_row3_col0\" class=\"data row3 col0\" >0.00</td>\n",
       "      <td id=\"T_a6649_row3_col1\" class=\"data row3 col1\" >0.01</td>\n",
       "      <td id=\"T_a6649_row3_col2\" class=\"data row3 col2\" >-0.00</td>\n",
       "      <td id=\"T_a6649_row3_col3\" class=\"data row3 col3\" >1.00</td>\n",
       "      <td id=\"T_a6649_row3_col4\" class=\"data row3 col4\" >-0.01</td>\n",
       "      <td id=\"T_a6649_row3_col5\" class=\"data row3 col5\" >0.03</td>\n",
       "      <td id=\"T_a6649_row3_col6\" class=\"data row3 col6\" >-0.03</td>\n",
       "      <td id=\"T_a6649_row3_col7\" class=\"data row3 col7\" >-0.01</td>\n",
       "      <td id=\"T_a6649_row3_col8\" class=\"data row3 col8\" >0.09</td>\n",
       "      <td id=\"T_a6649_row3_col9\" class=\"data row3 col9\" >-0.01</td>\n",
       "      <td id=\"T_a6649_row3_col10\" class=\"data row3 col10\" >0.29</td>\n",
       "    </tr>\n",
       "    <tr>\n",
       "      <th id=\"T_a6649_level0_row4\" class=\"row_heading level0 row4\" >Tenure</th>\n",
       "      <td id=\"T_a6649_row4_col0\" class=\"data row4 col0\" >-0.01</td>\n",
       "      <td id=\"T_a6649_row4_col1\" class=\"data row4 col1\" >-0.01</td>\n",
       "      <td id=\"T_a6649_row4_col2\" class=\"data row4 col2\" >0.00</td>\n",
       "      <td id=\"T_a6649_row4_col3\" class=\"data row4 col3\" >-0.01</td>\n",
       "      <td id=\"T_a6649_row4_col4\" class=\"data row4 col4\" >1.00</td>\n",
       "      <td id=\"T_a6649_row4_col5\" class=\"data row4 col5\" >-0.01</td>\n",
       "      <td id=\"T_a6649_row4_col6\" class=\"data row4 col6\" >0.01</td>\n",
       "      <td id=\"T_a6649_row4_col7\" class=\"data row4 col7\" >0.02</td>\n",
       "      <td id=\"T_a6649_row4_col8\" class=\"data row4 col8\" >-0.03</td>\n",
       "      <td id=\"T_a6649_row4_col9\" class=\"data row4 col9\" >0.01</td>\n",
       "      <td id=\"T_a6649_row4_col10\" class=\"data row4 col10\" >-0.01</td>\n",
       "    </tr>\n",
       "    <tr>\n",
       "      <th id=\"T_a6649_level0_row5\" class=\"row_heading level0 row5\" >Balance</th>\n",
       "      <td id=\"T_a6649_row5_col0\" class=\"data row5 col0\" >-0.01</td>\n",
       "      <td id=\"T_a6649_row5_col1\" class=\"data row5 col1\" >-0.01</td>\n",
       "      <td id=\"T_a6649_row5_col2\" class=\"data row5 col2\" >0.01</td>\n",
       "      <td id=\"T_a6649_row5_col3\" class=\"data row5 col3\" >0.03</td>\n",
       "      <td id=\"T_a6649_row5_col4\" class=\"data row5 col4\" >-0.01</td>\n",
       "      <td id=\"T_a6649_row5_col5\" class=\"data row5 col5\" >1.00</td>\n",
       "      <td id=\"T_a6649_row5_col6\" class=\"data row5 col6\" >-0.30</td>\n",
       "      <td id=\"T_a6649_row5_col7\" class=\"data row5 col7\" >-0.01</td>\n",
       "      <td id=\"T_a6649_row5_col8\" class=\"data row5 col8\" >-0.01</td>\n",
       "      <td id=\"T_a6649_row5_col9\" class=\"data row5 col9\" >0.01</td>\n",
       "      <td id=\"T_a6649_row5_col10\" class=\"data row5 col10\" >0.12</td>\n",
       "    </tr>\n",
       "    <tr>\n",
       "      <th id=\"T_a6649_level0_row6\" class=\"row_heading level0 row6\" >NumOfProducts</th>\n",
       "      <td id=\"T_a6649_row6_col0\" class=\"data row6 col0\" >0.01</td>\n",
       "      <td id=\"T_a6649_row6_col1\" class=\"data row6 col1\" >0.02</td>\n",
       "      <td id=\"T_a6649_row6_col2\" class=\"data row6 col2\" >0.01</td>\n",
       "      <td id=\"T_a6649_row6_col3\" class=\"data row6 col3\" >-0.03</td>\n",
       "      <td id=\"T_a6649_row6_col4\" class=\"data row6 col4\" >0.01</td>\n",
       "      <td id=\"T_a6649_row6_col5\" class=\"data row6 col5\" >-0.30</td>\n",
       "      <td id=\"T_a6649_row6_col6\" class=\"data row6 col6\" >1.00</td>\n",
       "      <td id=\"T_a6649_row6_col7\" class=\"data row6 col7\" >0.00</td>\n",
       "      <td id=\"T_a6649_row6_col8\" class=\"data row6 col8\" >0.01</td>\n",
       "      <td id=\"T_a6649_row6_col9\" class=\"data row6 col9\" >0.01</td>\n",
       "      <td id=\"T_a6649_row6_col10\" class=\"data row6 col10\" >-0.05</td>\n",
       "    </tr>\n",
       "    <tr>\n",
       "      <th id=\"T_a6649_level0_row7\" class=\"row_heading level0 row7\" >HasCrCard</th>\n",
       "      <td id=\"T_a6649_row7_col0\" class=\"data row7 col0\" >0.00</td>\n",
       "      <td id=\"T_a6649_row7_col1\" class=\"data row7 col1\" >-0.01</td>\n",
       "      <td id=\"T_a6649_row7_col2\" class=\"data row7 col2\" >-0.01</td>\n",
       "      <td id=\"T_a6649_row7_col3\" class=\"data row7 col3\" >-0.01</td>\n",
       "      <td id=\"T_a6649_row7_col4\" class=\"data row7 col4\" >0.02</td>\n",
       "      <td id=\"T_a6649_row7_col5\" class=\"data row7 col5\" >-0.01</td>\n",
       "      <td id=\"T_a6649_row7_col6\" class=\"data row7 col6\" >0.00</td>\n",
       "      <td id=\"T_a6649_row7_col7\" class=\"data row7 col7\" >1.00</td>\n",
       "      <td id=\"T_a6649_row7_col8\" class=\"data row7 col8\" >-0.01</td>\n",
       "      <td id=\"T_a6649_row7_col9\" class=\"data row7 col9\" >-0.01</td>\n",
       "      <td id=\"T_a6649_row7_col10\" class=\"data row7 col10\" >-0.01</td>\n",
       "    </tr>\n",
       "    <tr>\n",
       "      <th id=\"T_a6649_level0_row8\" class=\"row_heading level0 row8\" >IsActiveMember</th>\n",
       "      <td id=\"T_a6649_row8_col0\" class=\"data row8 col0\" >0.01</td>\n",
       "      <td id=\"T_a6649_row8_col1\" class=\"data row8 col1\" >0.00</td>\n",
       "      <td id=\"T_a6649_row8_col2\" class=\"data row8 col2\" >0.03</td>\n",
       "      <td id=\"T_a6649_row8_col3\" class=\"data row8 col3\" >0.09</td>\n",
       "      <td id=\"T_a6649_row8_col4\" class=\"data row8 col4\" >-0.03</td>\n",
       "      <td id=\"T_a6649_row8_col5\" class=\"data row8 col5\" >-0.01</td>\n",
       "      <td id=\"T_a6649_row8_col6\" class=\"data row8 col6\" >0.01</td>\n",
       "      <td id=\"T_a6649_row8_col7\" class=\"data row8 col7\" >-0.01</td>\n",
       "      <td id=\"T_a6649_row8_col8\" class=\"data row8 col8\" >1.00</td>\n",
       "      <td id=\"T_a6649_row8_col9\" class=\"data row8 col9\" >-0.01</td>\n",
       "      <td id=\"T_a6649_row8_col10\" class=\"data row8 col10\" >-0.16</td>\n",
       "    </tr>\n",
       "    <tr>\n",
       "      <th id=\"T_a6649_level0_row9\" class=\"row_heading level0 row9\" >EstimatedSalary</th>\n",
       "      <td id=\"T_a6649_row9_col0\" class=\"data row9 col0\" >-0.01</td>\n",
       "      <td id=\"T_a6649_row9_col1\" class=\"data row9 col1\" >0.02</td>\n",
       "      <td id=\"T_a6649_row9_col2\" class=\"data row9 col2\" >-0.00</td>\n",
       "      <td id=\"T_a6649_row9_col3\" class=\"data row9 col3\" >-0.01</td>\n",
       "      <td id=\"T_a6649_row9_col4\" class=\"data row9 col4\" >0.01</td>\n",
       "      <td id=\"T_a6649_row9_col5\" class=\"data row9 col5\" >0.01</td>\n",
       "      <td id=\"T_a6649_row9_col6\" class=\"data row9 col6\" >0.01</td>\n",
       "      <td id=\"T_a6649_row9_col7\" class=\"data row9 col7\" >-0.01</td>\n",
       "      <td id=\"T_a6649_row9_col8\" class=\"data row9 col8\" >-0.01</td>\n",
       "      <td id=\"T_a6649_row9_col9\" class=\"data row9 col9\" >1.00</td>\n",
       "      <td id=\"T_a6649_row9_col10\" class=\"data row9 col10\" >0.01</td>\n",
       "    </tr>\n",
       "    <tr>\n",
       "      <th id=\"T_a6649_level0_row10\" class=\"row_heading level0 row10\" >Exited</th>\n",
       "      <td id=\"T_a6649_row10_col0\" class=\"data row10 col0\" >-0.02</td>\n",
       "      <td id=\"T_a6649_row10_col1\" class=\"data row10 col1\" >-0.01</td>\n",
       "      <td id=\"T_a6649_row10_col2\" class=\"data row10 col2\" >-0.03</td>\n",
       "      <td id=\"T_a6649_row10_col3\" class=\"data row10 col3\" >0.29</td>\n",
       "      <td id=\"T_a6649_row10_col4\" class=\"data row10 col4\" >-0.01</td>\n",
       "      <td id=\"T_a6649_row10_col5\" class=\"data row10 col5\" >0.12</td>\n",
       "      <td id=\"T_a6649_row10_col6\" class=\"data row10 col6\" >-0.05</td>\n",
       "      <td id=\"T_a6649_row10_col7\" class=\"data row10 col7\" >-0.01</td>\n",
       "      <td id=\"T_a6649_row10_col8\" class=\"data row10 col8\" >-0.16</td>\n",
       "      <td id=\"T_a6649_row10_col9\" class=\"data row10 col9\" >0.01</td>\n",
       "      <td id=\"T_a6649_row10_col10\" class=\"data row10 col10\" >1.00</td>\n",
       "    </tr>\n",
       "  </tbody>\n",
       "</table>\n"
      ],
      "text/plain": [
       "<pandas.io.formats.style.Styler at 0x13a7c43be50>"
      ]
     },
     "execution_count": 9,
     "metadata": {},
     "output_type": "execute_result"
    }
   ],
   "source": [
    "data.corr().style.background_gradient().set_precision(2)"
   ]
  },
  {
   "cell_type": "code",
   "execution_count": 10,
   "id": "5b901bd4",
   "metadata": {},
   "outputs": [
    {
     "data": {
      "image/png": "[encoded data removed]",
      "text/plain": [
       "<Figure size 1500x1500 with 2 Axes>"
      ]
     },
     "metadata": {},
     "output_type": "display_data"
    }
   ],
   "source": [
    "fig, ax = plt.subplots(figsize = (15, 15))\n",
    "sns.heatmap(data.corr(), ax = ax, annot = True)\n",
    "plt.show()"
   ]
  },
  {
   "cell_type": "markdown",
   "id": "3e8ac4f8",
   "metadata": {},
   "source": [
    "# 2. Feature Engineering"
   ]
  },
  {
   "cell_type": "markdown",
   "id": "5913f4a7",
   "metadata": {},
   "source": [
    "Feature engineering adalah proses manipulasi dan transformasi data mentah untuk menciptakan fitur-fitur baru yang lebih informatif dan relevan dalam konteks pemodelan data. Dalam hal ini akan dilakukan -"
   ]
  },
  {
   "cell_type": "markdown",
   "id": "c732f875",
   "metadata": {},
   "source": [
    "## - One Hot Encoding"
   ]
  },
  {
   "cell_type": "markdown",
   "id": "bd421694",
   "metadata": {},
   "source": [
    "Fungsi utama dari One Hot Encoding adalah mengubah variabel kategorikal menjadi representasi numerik yang dapat digunakan oleh model machine learning. Dalam one hot encoding, setiap nilai unik dalam variabel kategorikal diubah menjadi kolom terpisah dalam dataframe baru."
   ]
  },
  {
   "cell_type": "code",
   "execution_count": 11,
   "id": "b4ff8d15",
   "metadata": {},
   "outputs": [
    {
     "data": {
      "text/plain": [
       "array(['France', 'Spain', 'Germany'], dtype=object)"
      ]
     },
     "execution_count": 11,
     "metadata": {},
     "output_type": "execute_result"
    }
   ],
   "source": [
    "data['Geography'].unique()"
   ]
  },
  {
   "cell_type": "code",
   "execution_count": 12,
   "id": "dd9be7fd",
   "metadata": {},
   "outputs": [],
   "source": [
    "data['Geography'] = \\\n",
    "data['Geography'].map({'France':0, 'Spain':1, 'Germany':2})"
   ]
  },
  {
   "cell_type": "code",
   "execution_count": 13,
   "id": "2b9b9318",
   "metadata": {},
   "outputs": [
    {
     "data": {
      "text/plain": [
       "array(['Female', 'Male'], dtype=object)"
      ]
     },
     "execution_count": 13,
     "metadata": {},
     "output_type": "execute_result"
    }
   ],
   "source": [
    "data['Gender'].unique()"
   ]
  },
  {
   "cell_type": "code",
   "execution_count": 14,
   "id": "3dfb2672",
   "metadata": {},
   "outputs": [],
   "source": [
    "data['Gender'] = \\\n",
    "data['Gender'].map({'Female':0, 'Male':1})"
   ]
  },
  {
   "cell_type": "code",
   "execution_count": 15,
   "id": "48ce3bc9",
   "metadata": {},
   "outputs": [],
   "source": [
    "dt = data.drop(columns=['RowNumber','CustomerId','Surname'])"
   ]
  },
  {
   "cell_type": "code",
   "execution_count": 16,
   "id": "7f5f8531",
   "metadata": {},
   "outputs": [
    {
     "data": {
      "text/html": [
       "<div>\n",
       "<style scoped>\n",
       "    .dataframe tbody tr th:only-of-type {\n",
       "        vertical-align: middle;\n",
       "    }\n",
       "\n",
       "    .dataframe tbody tr th {\n",
       "        vertical-align: top;\n",
       "    }\n",
       "\n",
       "    .dataframe thead th {\n",
       "        text-align: right;\n",
       "    }\n",
       "</style>\n",
       "<table border=\"1\" class=\"dataframe\">\n",
       "  <thead>\n",
       "    <tr style=\"text-align: right;\">\n",
       "      <th></th>\n",
       "      <th>CreditScore</th>\n",
       "      <th>Geography</th>\n",
       "      <th>Gender</th>\n",
       "      <th>Age</th>\n",
       "      <th>Tenure</th>\n",
       "      <th>Balance</th>\n",
       "      <th>NumOfProducts</th>\n",
       "      <th>HasCrCard</th>\n",
       "      <th>IsActiveMember</th>\n",
       "      <th>EstimatedSalary</th>\n",
       "      <th>Exited</th>\n",
       "    </tr>\n",
       "  </thead>\n",
       "  <tbody>\n",
       "    <tr>\n",
       "      <th>0</th>\n",
       "      <td>619</td>\n",
       "      <td>0</td>\n",
       "      <td>0</td>\n",
       "      <td>42</td>\n",
       "      <td>2</td>\n",
       "      <td>0.00</td>\n",
       "      <td>1</td>\n",
       "      <td>1</td>\n",
       "      <td>1</td>\n",
       "      <td>101348.88</td>\n",
       "      <td>1</td>\n",
       "    </tr>\n",
       "    <tr>\n",
       "      <th>1</th>\n",
       "      <td>608</td>\n",
       "      <td>1</td>\n",
       "      <td>0</td>\n",
       "      <td>41</td>\n",
       "      <td>1</td>\n",
       "      <td>83807.86</td>\n",
       "      <td>1</td>\n",
       "      <td>0</td>\n",
       "      <td>1</td>\n",
       "      <td>112542.58</td>\n",
       "      <td>0</td>\n",
       "    </tr>\n",
       "    <tr>\n",
       "      <th>2</th>\n",
       "      <td>502</td>\n",
       "      <td>0</td>\n",
       "      <td>0</td>\n",
       "      <td>42</td>\n",
       "      <td>8</td>\n",
       "      <td>159660.80</td>\n",
       "      <td>3</td>\n",
       "      <td>1</td>\n",
       "      <td>0</td>\n",
       "      <td>113931.57</td>\n",
       "      <td>1</td>\n",
       "    </tr>\n",
       "    <tr>\n",
       "      <th>3</th>\n",
       "      <td>699</td>\n",
       "      <td>0</td>\n",
       "      <td>0</td>\n",
       "      <td>39</td>\n",
       "      <td>1</td>\n",
       "      <td>0.00</td>\n",
       "      <td>2</td>\n",
       "      <td>0</td>\n",
       "      <td>0</td>\n",
       "      <td>93826.63</td>\n",
       "      <td>0</td>\n",
       "    </tr>\n",
       "    <tr>\n",
       "      <th>4</th>\n",
       "      <td>850</td>\n",
       "      <td>1</td>\n",
       "      <td>0</td>\n",
       "      <td>43</td>\n",
       "      <td>2</td>\n",
       "      <td>125510.82</td>\n",
       "      <td>1</td>\n",
       "      <td>1</td>\n",
       "      <td>1</td>\n",
       "      <td>79084.10</td>\n",
       "      <td>0</td>\n",
       "    </tr>\n",
       "    <tr>\n",
       "      <th>...</th>\n",
       "      <td>...</td>\n",
       "      <td>...</td>\n",
       "      <td>...</td>\n",
       "      <td>...</td>\n",
       "      <td>...</td>\n",
       "      <td>...</td>\n",
       "      <td>...</td>\n",
       "      <td>...</td>\n",
       "      <td>...</td>\n",
       "      <td>...</td>\n",
       "      <td>...</td>\n",
       "    </tr>\n",
       "    <tr>\n",
       "      <th>9995</th>\n",
       "      <td>771</td>\n",
       "      <td>0</td>\n",
       "      <td>1</td>\n",
       "      <td>39</td>\n",
       "      <td>5</td>\n",
       "      <td>0.00</td>\n",
       "      <td>2</td>\n",
       "      <td>1</td>\n",
       "      <td>0</td>\n",
       "      <td>96270.64</td>\n",
       "      <td>0</td>\n",
       "    </tr>\n",
       "    <tr>\n",
       "      <th>9996</th>\n",
       "      <td>516</td>\n",
       "      <td>0</td>\n",
       "      <td>1</td>\n",
       "      <td>35</td>\n",
       "      <td>10</td>\n",
       "      <td>57369.61</td>\n",
       "      <td>1</td>\n",
       "      <td>1</td>\n",
       "      <td>1</td>\n",
       "      <td>101699.77</td>\n",
       "      <td>0</td>\n",
       "    </tr>\n",
       "    <tr>\n",
       "      <th>9997</th>\n",
       "      <td>709</td>\n",
       "      <td>0</td>\n",
       "      <td>0</td>\n",
       "      <td>36</td>\n",
       "      <td>7</td>\n",
       "      <td>0.00</td>\n",
       "      <td>1</td>\n",
       "      <td>0</td>\n",
       "      <td>1</td>\n",
       "      <td>42085.58</td>\n",
       "      <td>1</td>\n",
       "    </tr>\n",
       "    <tr>\n",
       "      <th>9998</th>\n",
       "      <td>772</td>\n",
       "      <td>2</td>\n",
       "      <td>1</td>\n",
       "      <td>42</td>\n",
       "      <td>3</td>\n",
       "      <td>75075.31</td>\n",
       "      <td>2</td>\n",
       "      <td>1</td>\n",
       "      <td>0</td>\n",
       "      <td>92888.52</td>\n",
       "      <td>1</td>\n",
       "    </tr>\n",
       "    <tr>\n",
       "      <th>9999</th>\n",
       "      <td>792</td>\n",
       "      <td>0</td>\n",
       "      <td>0</td>\n",
       "      <td>28</td>\n",
       "      <td>4</td>\n",
       "      <td>130142.79</td>\n",
       "      <td>1</td>\n",
       "      <td>1</td>\n",
       "      <td>0</td>\n",
       "      <td>38190.78</td>\n",
       "      <td>0</td>\n",
       "    </tr>\n",
       "  </tbody>\n",
       "</table>\n",
       "<p>10000 rows × 11 columns</p>\n",
       "</div>"
      ],
      "text/plain": [
       "      CreditScore  Geography  Gender  Age  Tenure    Balance  NumOfProducts  \\\n",
       "0             619          0       0   42       2       0.00              1   \n",
       "1             608          1       0   41       1   83807.86              1   \n",
       "2             502          0       0   42       8  159660.80              3   \n",
       "3             699          0       0   39       1       0.00              2   \n",
       "4             850          1       0   43       2  125510.82              1   \n",
       "...           ...        ...     ...  ...     ...        ...            ...   \n",
       "9995          771          0       1   39       5       0.00              2   \n",
       "9996          516          0       1   35      10   57369.61              1   \n",
       "9997          709          0       0   36       7       0.00              1   \n",
       "9998          772          2       1   42       3   75075.31              2   \n",
       "9999          792          0       0   28       4  130142.79              1   \n",
       "\n",
       "      HasCrCard  IsActiveMember  EstimatedSalary  Exited  \n",
       "0             1               1        101348.88       1  \n",
       "1             0               1        112542.58       0  \n",
       "2             1               0        113931.57       1  \n",
       "3             0               0         93826.63       0  \n",
       "4             1               1         79084.10       0  \n",
       "...         ...             ...              ...     ...  \n",
       "9995          1               0         96270.64       0  \n",
       "9996          1               1        101699.77       0  \n",
       "9997          0               1         42085.58       1  \n",
       "9998          1               0         92888.52       1  \n",
       "9999          1               0         38190.78       0  \n",
       "\n",
       "[10000 rows x 11 columns]"
      ]
     },
     "execution_count": 16,
     "metadata": {},
     "output_type": "execute_result"
    }
   ],
   "source": [
    "dt = pd.get_dummies(dt)\n",
    "dt"
   ]
  },
  {
   "cell_type": "markdown",
   "id": "842071c2",
   "metadata": {},
   "source": [
    "## - Normalisasi Data"
   ]
  },
  {
   "cell_type": "markdown",
   "id": "ac2f735b",
   "metadata": {},
   "source": [
    "Normalisasi atau standarisasi data berfungsi untuk mengubah kolom numerik dengan rentang nilai yang berbeda menjadi skala yang seragam. Ini dapat membantu algoritma pemodelan dalam memperlakukan kolom dengan adil dan memudahkan perbandingan antar kolom dalam dataset."
   ]
  },
  {
   "cell_type": "code",
   "execution_count": 17,
   "id": "680bd3b2",
   "metadata": {},
   "outputs": [],
   "source": [
    "from sklearn import preprocessing\n",
    "\n",
    "scaler = preprocessing.MinMaxScaler()\n",
    "d = scaler.fit_transform(dt)\n",
    "dn = pd.DataFrame(d, columns=dt.columns)"
   ]
  },
  {
   "cell_type": "markdown",
   "id": "438db7bd",
   "metadata": {},
   "source": [
    "## - Dataset Hasil"
   ]
  },
  {
   "cell_type": "code",
   "execution_count": 18,
   "id": "16e18d6a",
   "metadata": {},
   "outputs": [
    {
     "data": {
      "text/html": [
       "<div>\n",
       "<style scoped>\n",
       "    .dataframe tbody tr th:only-of-type {\n",
       "        vertical-align: middle;\n",
       "    }\n",
       "\n",
       "    .dataframe tbody tr th {\n",
       "        vertical-align: top;\n",
       "    }\n",
       "\n",
       "    .dataframe thead th {\n",
       "        text-align: right;\n",
       "    }\n",
       "</style>\n",
       "<table border=\"1\" class=\"dataframe\">\n",
       "  <thead>\n",
       "    <tr style=\"text-align: right;\">\n",
       "      <th></th>\n",
       "      <th>CreditScore</th>\n",
       "      <th>Geography</th>\n",
       "      <th>Gender</th>\n",
       "      <th>Age</th>\n",
       "      <th>Tenure</th>\n",
       "      <th>Balance</th>\n",
       "      <th>NumOfProducts</th>\n",
       "      <th>HasCrCard</th>\n",
       "      <th>IsActiveMember</th>\n",
       "      <th>EstimatedSalary</th>\n",
       "      <th>Exited</th>\n",
       "    </tr>\n",
       "  </thead>\n",
       "  <tbody>\n",
       "    <tr>\n",
       "      <th>0</th>\n",
       "      <td>0.538</td>\n",
       "      <td>0.0</td>\n",
       "      <td>0.0</td>\n",
       "      <td>0.324324</td>\n",
       "      <td>0.2</td>\n",
       "      <td>0.000000</td>\n",
       "      <td>0.000000</td>\n",
       "      <td>1.0</td>\n",
       "      <td>1.0</td>\n",
       "      <td>0.506735</td>\n",
       "      <td>1.0</td>\n",
       "    </tr>\n",
       "    <tr>\n",
       "      <th>1</th>\n",
       "      <td>0.516</td>\n",
       "      <td>0.5</td>\n",
       "      <td>0.0</td>\n",
       "      <td>0.310811</td>\n",
       "      <td>0.1</td>\n",
       "      <td>0.334031</td>\n",
       "      <td>0.000000</td>\n",
       "      <td>0.0</td>\n",
       "      <td>1.0</td>\n",
       "      <td>0.562709</td>\n",
       "      <td>0.0</td>\n",
       "    </tr>\n",
       "    <tr>\n",
       "      <th>2</th>\n",
       "      <td>0.304</td>\n",
       "      <td>0.0</td>\n",
       "      <td>0.0</td>\n",
       "      <td>0.324324</td>\n",
       "      <td>0.8</td>\n",
       "      <td>0.636357</td>\n",
       "      <td>0.666667</td>\n",
       "      <td>1.0</td>\n",
       "      <td>0.0</td>\n",
       "      <td>0.569654</td>\n",
       "      <td>1.0</td>\n",
       "    </tr>\n",
       "    <tr>\n",
       "      <th>3</th>\n",
       "      <td>0.698</td>\n",
       "      <td>0.0</td>\n",
       "      <td>0.0</td>\n",
       "      <td>0.283784</td>\n",
       "      <td>0.1</td>\n",
       "      <td>0.000000</td>\n",
       "      <td>0.333333</td>\n",
       "      <td>0.0</td>\n",
       "      <td>0.0</td>\n",
       "      <td>0.469120</td>\n",
       "      <td>0.0</td>\n",
       "    </tr>\n",
       "    <tr>\n",
       "      <th>4</th>\n",
       "      <td>1.000</td>\n",
       "      <td>0.5</td>\n",
       "      <td>0.0</td>\n",
       "      <td>0.337838</td>\n",
       "      <td>0.2</td>\n",
       "      <td>0.500246</td>\n",
       "      <td>0.000000</td>\n",
       "      <td>1.0</td>\n",
       "      <td>1.0</td>\n",
       "      <td>0.395400</td>\n",
       "      <td>0.0</td>\n",
       "    </tr>\n",
       "    <tr>\n",
       "      <th>...</th>\n",
       "      <td>...</td>\n",
       "      <td>...</td>\n",
       "      <td>...</td>\n",
       "      <td>...</td>\n",
       "      <td>...</td>\n",
       "      <td>...</td>\n",
       "      <td>...</td>\n",
       "      <td>...</td>\n",
       "      <td>...</td>\n",
       "      <td>...</td>\n",
       "      <td>...</td>\n",
       "    </tr>\n",
       "    <tr>\n",
       "      <th>9995</th>\n",
       "      <td>0.842</td>\n",
       "      <td>0.0</td>\n",
       "      <td>1.0</td>\n",
       "      <td>0.283784</td>\n",
       "      <td>0.5</td>\n",
       "      <td>0.000000</td>\n",
       "      <td>0.333333</td>\n",
       "      <td>1.0</td>\n",
       "      <td>0.0</td>\n",
       "      <td>0.481341</td>\n",
       "      <td>0.0</td>\n",
       "    </tr>\n",
       "    <tr>\n",
       "      <th>9996</th>\n",
       "      <td>0.332</td>\n",
       "      <td>0.0</td>\n",
       "      <td>1.0</td>\n",
       "      <td>0.229730</td>\n",
       "      <td>1.0</td>\n",
       "      <td>0.228657</td>\n",
       "      <td>0.000000</td>\n",
       "      <td>1.0</td>\n",
       "      <td>1.0</td>\n",
       "      <td>0.508490</td>\n",
       "      <td>0.0</td>\n",
       "    </tr>\n",
       "    <tr>\n",
       "      <th>9997</th>\n",
       "      <td>0.718</td>\n",
       "      <td>0.0</td>\n",
       "      <td>0.0</td>\n",
       "      <td>0.243243</td>\n",
       "      <td>0.7</td>\n",
       "      <td>0.000000</td>\n",
       "      <td>0.000000</td>\n",
       "      <td>0.0</td>\n",
       "      <td>1.0</td>\n",
       "      <td>0.210390</td>\n",
       "      <td>1.0</td>\n",
       "    </tr>\n",
       "    <tr>\n",
       "      <th>9998</th>\n",
       "      <td>0.844</td>\n",
       "      <td>1.0</td>\n",
       "      <td>1.0</td>\n",
       "      <td>0.324324</td>\n",
       "      <td>0.3</td>\n",
       "      <td>0.299226</td>\n",
       "      <td>0.333333</td>\n",
       "      <td>1.0</td>\n",
       "      <td>0.0</td>\n",
       "      <td>0.464429</td>\n",
       "      <td>1.0</td>\n",
       "    </tr>\n",
       "    <tr>\n",
       "      <th>9999</th>\n",
       "      <td>0.884</td>\n",
       "      <td>0.0</td>\n",
       "      <td>0.0</td>\n",
       "      <td>0.135135</td>\n",
       "      <td>0.4</td>\n",
       "      <td>0.518708</td>\n",
       "      <td>0.000000</td>\n",
       "      <td>1.0</td>\n",
       "      <td>0.0</td>\n",
       "      <td>0.190914</td>\n",
       "      <td>0.0</td>\n",
       "    </tr>\n",
       "  </tbody>\n",
       "</table>\n",
       "<p>10000 rows × 11 columns</p>\n",
       "</div>"
      ],
      "text/plain": [
       "      CreditScore  Geography  Gender       Age  Tenure   Balance  \\\n",
       "0           0.538        0.0     0.0  0.324324     0.2  0.000000   \n",
       "1           0.516        0.5     0.0  0.310811     0.1  0.334031   \n",
       "2           0.304        0.0     0.0  0.324324     0.8  0.636357   \n",
       "3           0.698        0.0     0.0  0.283784     0.1  0.000000   \n",
       "4           1.000        0.5     0.0  0.337838     0.2  0.500246   \n",
       "...           ...        ...     ...       ...     ...       ...   \n",
       "9995        0.842        0.0     1.0  0.283784     0.5  0.000000   \n",
       "9996        0.332        0.0     1.0  0.229730     1.0  0.228657   \n",
       "9997        0.718        0.0     0.0  0.243243     0.7  0.000000   \n",
       "9998        0.844        1.0     1.0  0.324324     0.3  0.299226   \n",
       "9999        0.884        0.0     0.0  0.135135     0.4  0.518708   \n",
       "\n",
       "      NumOfProducts  HasCrCard  IsActiveMember  EstimatedSalary  Exited  \n",
       "0          0.000000        1.0             1.0         0.506735     1.0  \n",
       "1          0.000000        0.0             1.0         0.562709     0.0  \n",
       "2          0.666667        1.0             0.0         0.569654     1.0  \n",
       "3          0.333333        0.0             0.0         0.469120     0.0  \n",
       "4          0.000000        1.0             1.0         0.395400     0.0  \n",
       "...             ...        ...             ...              ...     ...  \n",
       "9995       0.333333        1.0             0.0         0.481341     0.0  \n",
       "9996       0.000000        1.0             1.0         0.508490     0.0  \n",
       "9997       0.000000        0.0             1.0         0.210390     1.0  \n",
       "9998       0.333333        1.0             0.0         0.464429     1.0  \n",
       "9999       0.000000        1.0             0.0         0.190914     0.0  \n",
       "\n",
       "[10000 rows x 11 columns]"
      ]
     },
     "execution_count": 18,
     "metadata": {},
     "output_type": "execute_result"
    }
   ],
   "source": [
    "dn"
   ]
  },
  {
   "cell_type": "code",
   "execution_count": 19,
   "id": "65e84cb7",
   "metadata": {},
   "outputs": [
    {
     "data": {
      "text/plain": [
       "CreditScore        float64\n",
       "Geography          float64\n",
       "Gender             float64\n",
       "Age                float64\n",
       "Tenure             float64\n",
       "Balance            float64\n",
       "NumOfProducts      float64\n",
       "HasCrCard          float64\n",
       "IsActiveMember     float64\n",
       "EstimatedSalary    float64\n",
       "Exited             float64\n",
       "dtype: object"
      ]
     },
     "execution_count": 19,
     "metadata": {},
     "output_type": "execute_result"
    }
   ],
   "source": [
    "dn.dtypes"
   ]
  },
  {
   "cell_type": "markdown",
   "id": "dd8fb67f",
   "metadata": {},
   "source": [
    "# 3. Predictive Modelling"
   ]
  },
  {
   "cell_type": "markdown",
   "id": "8fff0cb0",
   "metadata": {},
   "source": [
    "## - Membagi data menjadi X dan y"
   ]
  },
  {
   "cell_type": "code",
   "execution_count": 20,
   "id": "f1cf4394",
   "metadata": {},
   "outputs": [],
   "source": [
    "X = dn.drop(['Exited'],axis=1)\n",
    "y = dn['Exited']"
   ]
  },
  {
   "cell_type": "code",
   "execution_count": 21,
   "id": "ac7bfea5",
   "metadata": {},
   "outputs": [
    {
     "name": "stdout",
     "output_type": "stream",
     "text": [
      "[(0.0, 7963), (1.0, 2037)]\n"
     ]
    }
   ],
   "source": [
    "from collections import Counter\n",
    "print(sorted(Counter(dn['Exited']).items()))"
   ]
  },
  {
   "cell_type": "markdown",
   "id": "518d911b",
   "metadata": {},
   "source": [
    "## - Split Train dan Test Data"
   ]
  },
  {
   "cell_type": "code",
   "execution_count": 22,
   "id": "ef9fd651",
   "metadata": {},
   "outputs": [],
   "source": [
    "from sklearn.model_selection import train_test_split\n",
    "# Mengasumsikan X dan y adalah dataset dan label yang sesuai\n",
    "X_train, X_test, y_train, y_test = train_test_split(X,y,test_size=0.2)\n",
    "# Fungsi dari 'Train_test_split' yaitu membagi data menjadi data yang mana\n",
    "# untuk kita gunakan sebagai data pelatihan dan pengujian. Disini kami\n",
    "# mengunakan 0.2 data pengujian yang dimana 0.8 nya akan menjadi data pelatihan"
   ]
  },
  {
   "cell_type": "code",
   "execution_count": 23,
   "id": "ee5207f8",
   "metadata": {},
   "outputs": [
    {
     "data": {
      "text/plain": [
       "(8000, 2000)"
      ]
     },
     "execution_count": 23,
     "metadata": {},
     "output_type": "execute_result"
    }
   ],
   "source": [
    "len(X_train), len(X_test)\n",
    "# Memberikan jumlah sampel dalam data pelatihan (X_train) dan data \n",
    "# pengujian (X_test) lalu dalam kode 'len(X_train)' akan mengembalikan jumlah sampel dalam set pelatihan"
   ]
  },
  {
   "cell_type": "code",
   "execution_count": 24,
   "id": "4ddf959a",
   "metadata": {},
   "outputs": [
    {
     "data": {
      "text/plain": [
       "(8000, 2000)"
      ]
     },
     "execution_count": 24,
     "metadata": {},
     "output_type": "execute_result"
    }
   ],
   "source": [
    "len(y_train), len(y_test)\n",
    "# Memberikan jumlah sampel dalam data pelatihan (y_train) dan data \n",
    "# pengujian (y_test) lalu dalam kode 'len(y_train)' akan mengembalikan jumlah sampel dalam set pelatihan"
   ]
  },
  {
   "cell_type": "markdown",
   "id": "dc5a79ed",
   "metadata": {},
   "source": [
    "## - Permodelan Dataset dengan Metode Logistic Regression"
   ]
  },
  {
   "cell_type": "code",
   "execution_count": 25,
   "id": "c3cc2e18",
   "metadata": {},
   "outputs": [
    {
     "data": {
      "text/plain": [
       "LogisticRegression()"
      ]
     },
     "execution_count": 25,
     "metadata": {},
     "output_type": "execute_result"
    }
   ],
   "source": [
    "from sklearn.linear_model import LogisticRegression\n",
    "model = LogisticRegression()\n",
    "model.fit(X_train,y_train)"
   ]
  },
  {
   "cell_type": "code",
   "execution_count": 26,
   "id": "c31c5aec",
   "metadata": {},
   "outputs": [],
   "source": [
    "y_pred = model.predict(X_test)"
   ]
  },
  {
   "cell_type": "code",
   "execution_count": 27,
   "id": "cae75d46",
   "metadata": {},
   "outputs": [
    {
     "data": {
      "text/plain": [
       "0.818"
      ]
     },
     "execution_count": 27,
     "metadata": {},
     "output_type": "execute_result"
    }
   ],
   "source": [
    "model.score(X_test,y_test)"
   ]
  },
  {
   "cell_type": "markdown",
   "id": "a1a5b65e",
   "metadata": {},
   "source": [
    "## - Balancing Dataset dengan Metode Over Sampling"
   ]
  },
  {
   "cell_type": "code",
   "execution_count": 28,
   "id": "c4dfd334",
   "metadata": {},
   "outputs": [
    {
     "name": "stdout",
     "output_type": "stream",
     "text": [
      "Requirement already satisfied: imblearn in c:\\users\\asus\\anaconda3\\lib\\site-packages (0.0)\n",
      "Requirement already satisfied: imbalanced-learn in c:\\users\\asus\\anaconda3\\lib\\site-packages (from imblearn) (0.10.1)\n",
      "Requirement already satisfied: scikit-learn>=1.0.2 in c:\\users\\asus\\anaconda3\\lib\\site-packages (from imbalanced-learn->imblearn) (1.0.2)\n",
      "Requirement already satisfied: numpy>=1.17.3 in c:\\users\\asus\\anaconda3\\lib\\site-packages (from imbalanced-learn->imblearn) (1.21.5)\n",
      "Requirement already satisfied: scipy>=1.3.2 in c:\\users\\asus\\anaconda3\\lib\\site-packages (from imbalanced-learn->imblearn) (1.9.1)\n",
      "Requirement already satisfied: threadpoolctl>=2.0.0 in c:\\users\\asus\\anaconda3\\lib\\site-packages (from imbalanced-learn->imblearn) (2.2.0)\n",
      "Requirement already satisfied: joblib>=1.1.1 in c:\\users\\asus\\anaconda3\\lib\\site-packages (from imbalanced-learn->imblearn) (1.2.0)\n",
      "Note: you may need to restart the kernel to use updated packages.\n"
     ]
    }
   ],
   "source": [
    "pip install imblearn"
   ]
  },
  {
   "cell_type": "code",
   "execution_count": 29,
   "id": "b44092e4",
   "metadata": {},
   "outputs": [
    {
     "name": "stdout",
     "output_type": "stream",
     "text": [
      "[(0.0, 7963), (1.0, 7963)] (15926,)\n"
     ]
    }
   ],
   "source": [
    "from imblearn import over_sampling\n",
    "from imblearn.over_sampling import RandomOverSampler\n",
    "ros = RandomOverSampler(random_state=0)\n",
    "Xr, yr = ros.fit_resample(X, y)\n",
    "print(sorted(Counter(yr).items()), yr.shape)"
   ]
  },
  {
   "cell_type": "markdown",
   "id": "e52854ff",
   "metadata": {},
   "source": [
    "## - Permodelan Dataset Balance dengan Metode Logistic Regression"
   ]
  },
  {
   "cell_type": "code",
   "execution_count": 30,
   "id": "1aafd885",
   "metadata": {},
   "outputs": [
    {
     "data": {
      "text/plain": [
       "LogisticRegression()"
      ]
     },
     "execution_count": 30,
     "metadata": {},
     "output_type": "execute_result"
    }
   ],
   "source": [
    "Xr_train, Xr_test, yr_train, yr_test = train_test_split(Xr,yr, test_size=0.2)\n",
    "model = LogisticRegression()\n",
    "model.fit(Xr_train,yr_train)"
   ]
  },
  {
   "cell_type": "code",
   "execution_count": 31,
   "id": "b22ad8c7",
   "metadata": {},
   "outputs": [
    {
     "data": {
      "text/plain": [
       "(12740, 3186)"
      ]
     },
     "execution_count": 31,
     "metadata": {},
     "output_type": "execute_result"
    }
   ],
   "source": [
    "len(Xr_train), len(Xr_test)"
   ]
  },
  {
   "cell_type": "code",
   "execution_count": 32,
   "id": "0580c7e6",
   "metadata": {},
   "outputs": [
    {
     "data": {
      "text/plain": [
       "(12740, 3186)"
      ]
     },
     "execution_count": 32,
     "metadata": {},
     "output_type": "execute_result"
    }
   ],
   "source": [
    "len(yr_train), len(yr_test)"
   ]
  },
  {
   "cell_type": "code",
   "execution_count": 33,
   "id": "d452d4ff",
   "metadata": {},
   "outputs": [],
   "source": [
    "yr_pred = model.predict(Xr_test)"
   ]
  },
  {
   "cell_type": "code",
   "execution_count": 34,
   "id": "d6fbf3bc",
   "metadata": {},
   "outputs": [
    {
     "data": {
      "text/plain": [
       "0.6958568738229756"
      ]
     },
     "execution_count": 34,
     "metadata": {},
     "output_type": "execute_result"
    }
   ],
   "source": [
    "model.score(Xr_test,yr_test)"
   ]
  },
  {
   "cell_type": "markdown",
   "id": "8a5b2be9",
   "metadata": {},
   "source": [
    "# 4. Pengujian Model dengan Memasukkan Data Random"
   ]
  },
  {
   "cell_type": "code",
   "execution_count": 35,
   "id": "348ac5fd",
   "metadata": {},
   "outputs": [
    {
     "data": {
      "text/html": [
       "<div>\n",
       "<style scoped>\n",
       "    .dataframe tbody tr th:only-of-type {\n",
       "        vertical-align: middle;\n",
       "    }\n",
       "\n",
       "    .dataframe tbody tr th {\n",
       "        vertical-align: top;\n",
       "    }\n",
       "\n",
       "    .dataframe thead th {\n",
       "        text-align: right;\n",
       "    }\n",
       "</style>\n",
       "<table border=\"1\" class=\"dataframe\">\n",
       "  <thead>\n",
       "    <tr style=\"text-align: right;\">\n",
       "      <th></th>\n",
       "      <th>CreditScore</th>\n",
       "      <th>Geography</th>\n",
       "      <th>Gender</th>\n",
       "      <th>Age</th>\n",
       "      <th>Tenure</th>\n",
       "      <th>Balance</th>\n",
       "      <th>NumOfProducts</th>\n",
       "      <th>HasCrCard</th>\n",
       "      <th>IsActiveMember</th>\n",
       "      <th>EstimatedSalary</th>\n",
       "      <th>Exited</th>\n",
       "    </tr>\n",
       "  </thead>\n",
       "  <tbody>\n",
       "    <tr>\n",
       "      <th>count</th>\n",
       "      <td>10000.000000</td>\n",
       "      <td>10000.000000</td>\n",
       "      <td>10000.000000</td>\n",
       "      <td>10000.000000</td>\n",
       "      <td>10000.000000</td>\n",
       "      <td>10000.000000</td>\n",
       "      <td>10000.000000</td>\n",
       "      <td>10000.00000</td>\n",
       "      <td>10000.000000</td>\n",
       "      <td>10000.000000</td>\n",
       "      <td>10000.000000</td>\n",
       "    </tr>\n",
       "    <tr>\n",
       "      <th>mean</th>\n",
       "      <td>650.528800</td>\n",
       "      <td>0.749500</td>\n",
       "      <td>0.545700</td>\n",
       "      <td>38.921800</td>\n",
       "      <td>5.012800</td>\n",
       "      <td>76485.889288</td>\n",
       "      <td>1.530200</td>\n",
       "      <td>0.70550</td>\n",
       "      <td>0.515100</td>\n",
       "      <td>100090.239881</td>\n",
       "      <td>0.203700</td>\n",
       "    </tr>\n",
       "    <tr>\n",
       "      <th>std</th>\n",
       "      <td>96.653299</td>\n",
       "      <td>0.830433</td>\n",
       "      <td>0.497932</td>\n",
       "      <td>10.487806</td>\n",
       "      <td>2.892174</td>\n",
       "      <td>62397.405202</td>\n",
       "      <td>0.581654</td>\n",
       "      <td>0.45584</td>\n",
       "      <td>0.499797</td>\n",
       "      <td>57510.492818</td>\n",
       "      <td>0.402769</td>\n",
       "    </tr>\n",
       "    <tr>\n",
       "      <th>min</th>\n",
       "      <td>350.000000</td>\n",
       "      <td>0.000000</td>\n",
       "      <td>0.000000</td>\n",
       "      <td>18.000000</td>\n",
       "      <td>0.000000</td>\n",
       "      <td>0.000000</td>\n",
       "      <td>1.000000</td>\n",
       "      <td>0.00000</td>\n",
       "      <td>0.000000</td>\n",
       "      <td>11.580000</td>\n",
       "      <td>0.000000</td>\n",
       "    </tr>\n",
       "    <tr>\n",
       "      <th>25%</th>\n",
       "      <td>584.000000</td>\n",
       "      <td>0.000000</td>\n",
       "      <td>0.000000</td>\n",
       "      <td>32.000000</td>\n",
       "      <td>3.000000</td>\n",
       "      <td>0.000000</td>\n",
       "      <td>1.000000</td>\n",
       "      <td>0.00000</td>\n",
       "      <td>0.000000</td>\n",
       "      <td>51002.110000</td>\n",
       "      <td>0.000000</td>\n",
       "    </tr>\n",
       "    <tr>\n",
       "      <th>50%</th>\n",
       "      <td>652.000000</td>\n",
       "      <td>0.000000</td>\n",
       "      <td>1.000000</td>\n",
       "      <td>37.000000</td>\n",
       "      <td>5.000000</td>\n",
       "      <td>97198.540000</td>\n",
       "      <td>1.000000</td>\n",
       "      <td>1.00000</td>\n",
       "      <td>1.000000</td>\n",
       "      <td>100193.915000</td>\n",
       "      <td>0.000000</td>\n",
       "    </tr>\n",
       "    <tr>\n",
       "      <th>75%</th>\n",
       "      <td>718.000000</td>\n",
       "      <td>2.000000</td>\n",
       "      <td>1.000000</td>\n",
       "      <td>44.000000</td>\n",
       "      <td>7.000000</td>\n",
       "      <td>127644.240000</td>\n",
       "      <td>2.000000</td>\n",
       "      <td>1.00000</td>\n",
       "      <td>1.000000</td>\n",
       "      <td>149388.247500</td>\n",
       "      <td>0.000000</td>\n",
       "    </tr>\n",
       "    <tr>\n",
       "      <th>max</th>\n",
       "      <td>850.000000</td>\n",
       "      <td>2.000000</td>\n",
       "      <td>1.000000</td>\n",
       "      <td>92.000000</td>\n",
       "      <td>10.000000</td>\n",
       "      <td>250898.090000</td>\n",
       "      <td>4.000000</td>\n",
       "      <td>1.00000</td>\n",
       "      <td>1.000000</td>\n",
       "      <td>199992.480000</td>\n",
       "      <td>1.000000</td>\n",
       "    </tr>\n",
       "  </tbody>\n",
       "</table>\n",
       "</div>"
      ],
      "text/plain": [
       "        CreditScore     Geography        Gender           Age        Tenure  \\\n",
       "count  10000.000000  10000.000000  10000.000000  10000.000000  10000.000000   \n",
       "mean     650.528800      0.749500      0.545700     38.921800      5.012800   \n",
       "std       96.653299      0.830433      0.497932     10.487806      2.892174   \n",
       "min      350.000000      0.000000      0.000000     18.000000      0.000000   \n",
       "25%      584.000000      0.000000      0.000000     32.000000      3.000000   \n",
       "50%      652.000000      0.000000      1.000000     37.000000      5.000000   \n",
       "75%      718.000000      2.000000      1.000000     44.000000      7.000000   \n",
       "max      850.000000      2.000000      1.000000     92.000000     10.000000   \n",
       "\n",
       "             Balance  NumOfProducts    HasCrCard  IsActiveMember  \\\n",
       "count   10000.000000   10000.000000  10000.00000    10000.000000   \n",
       "mean    76485.889288       1.530200      0.70550        0.515100   \n",
       "std     62397.405202       0.581654      0.45584        0.499797   \n",
       "min         0.000000       1.000000      0.00000        0.000000   \n",
       "25%         0.000000       1.000000      0.00000        0.000000   \n",
       "50%     97198.540000       1.000000      1.00000        1.000000   \n",
       "75%    127644.240000       2.000000      1.00000        1.000000   \n",
       "max    250898.090000       4.000000      1.00000        1.000000   \n",
       "\n",
       "       EstimatedSalary        Exited  \n",
       "count     10000.000000  10000.000000  \n",
       "mean     100090.239881      0.203700  \n",
       "std       57510.492818      0.402769  \n",
       "min          11.580000      0.000000  \n",
       "25%       51002.110000      0.000000  \n",
       "50%      100193.915000      0.000000  \n",
       "75%      149388.247500      0.000000  \n",
       "max      199992.480000      1.000000  "
      ]
     },
     "execution_count": 35,
     "metadata": {},
     "output_type": "execute_result"
    }
   ],
   "source": [
    "dt.describe()"
   ]
  },
  {
   "cell_type": "code",
   "execution_count": 36,
   "id": "8daecb8d",
   "metadata": {},
   "outputs": [
    {
     "name": "stdout",
     "output_type": "stream",
     "text": [
      "Pelanggan diperkirakan tidak akan berhenti.\n"
     ]
    }
   ],
   "source": [
    "import numpy as np\n",
    "data_random = np.array([[584, 0, 1, 18, 3, 71, 1, 0, 0, 11]])\n",
    "prediction = model.predict(data_random)\n",
    "\n",
    "if prediction[0] == 0:\n",
    "    print(\"Pelanggan diperkirakan tidak akan berhenti.\")\n",
    "else:\n",
    "    print(\"Pelanggan diperkirakan akan berhenti.\")\n",
    "\n",
    "#permodelan dengan data Age(umur) yang masih muda dan Balance(saldo) yang sedikit diperkirakan tidak akan berhenti."
   ]
  },
  {
   "cell_type": "code",
   "execution_count": 37,
   "id": "37b4dd2e",
   "metadata": {},
   "outputs": [
    {
     "name": "stdout",
     "output_type": "stream",
     "text": [
      "Pelanggan diperkirakan akan berhenti.\n"
     ]
    }
   ],
   "source": [
    "import numpy as np\n",
    "data_random = np.array([[850, 2, 0, 92, 10, 127644, 4, 1, 1, 149388]])\n",
    "prediction = model.predict(data_random)\n",
    "\n",
    "if prediction[0] == 0:\n",
    "    print(\"Pelanggan diperkirakan tidak akan berhenti.\")\n",
    "else:\n",
    "    print(\"Pelanggan diperkirakan akan berhenti.\")\n",
    "    \n",
    "#permodelan dengan data Age(umur) yang sudah tua dan Balance(saldo) yang banyak diperkirakan akan berhenti."
   ]
  },
  {
   "cell_type": "markdown",
   "id": "2f1e947b",
   "metadata": {},
   "source": [
    "# 5. Kesimpulan"
   ]
  },
  {
   "cell_type": "markdown",
   "id": "ecfab48f",
   "metadata": {},
   "source": [
    "1. Berdasarkan tabel korelasi, ada beberapa faktor yang cukup berpengaruh terhadap keputusan seorang pelanggan untuk churn atau tidak, seperti:\n",
    "- Terdapat korelasi positif yang moderat antara umur (Age) dengan keputusan pelanggan untuk berhenti (Exited). Hal ini    menunjukkan bahwa semakin tua seorang pelanggan, semakin mungkin mereka berhenti.\n",
    "- Terdapat korelasi positif yang lemah antara saldo (Balance) dengan keputusan pelanggan untuk berhenti (Exited). Ini menunjukkan bahwa pelanggan dengan saldo yang lebih tinggi cenderung lebih mungkin untuk berhenti.\n",
    "- Sehingga, dapat ditarik kesimpulan bahwa umur dan saldo merupakan dua faktor yang paling mempengaruhi keputusan konsumen untuk churn atau tidak"
   ]
  },
  {
   "cell_type": "markdown",
   "id": "ff19e8e1",
   "metadata": {},
   "source": [
    "2. Berdasarkan analisis data dan pengujian model dengan data random, maka dapat dikitehui bahwa kita bisa memprediksi seorang pelanggan akan churn (berhenti) atau tidak dalam menggunakan suatu layanan dengan tingkat akurasi sebesar 69%"
   ]
  }
 ],
 "metadata": {
  "kernelspec": {
   "display_name": "Python 3 (ipykernel)",
   "language": "python",
   "name": "python3"
  },
  "language_info": {
   "codemirror_mode": {
    "name": "ipython",
    "version": 3
   },
   "file_extension": ".py",
   "mimetype": "text/x-python",
   "name": "python",
   "nbconvert_exporter": "python",
   "pygments_lexer": "ipython3",
   "version": "3.9.13"
  }
 },
 "nbformat": 4,
 "nbformat_minor": 5
}
